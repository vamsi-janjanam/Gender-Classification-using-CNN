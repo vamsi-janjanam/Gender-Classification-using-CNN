{
 "cells": [
  {
   "cell_type": "code",
   "execution_count": null,
   "metadata": {},
   "outputs": [],
   "source": []
  },
  {
   "cell_type": "code",
   "execution_count": 1,
   "metadata": {
    "execution": {
     "iopub.execute_input": "2022-05-06T21:58:35.078083Z",
     "iopub.status.busy": "2022-05-06T21:58:35.077776Z",
     "iopub.status.idle": "2022-05-06T21:58:36.642686Z",
     "shell.execute_reply": "2022-05-06T21:58:36.641846Z",
     "shell.execute_reply.started": "2022-05-06T21:58:35.078023Z"
    }
   },
   "outputs": [
    {
     "name": "stderr",
     "output_type": "stream",
     "text": [
      "Using TensorFlow backend.\n"
     ]
    }
   ],
   "source": [
    "import pandas as pd\n",
    "import numpy as np\n",
    "import cv2    \n",
    "import matplotlib.pyplot as plt\n",
    "import seaborn as sns\n",
    "from sklearn.metrics import f1_score\n",
    "\n",
    "from keras.applications.inception_v3 import InceptionV3, preprocess_input\n",
    "from keras import optimizers\n",
    "from keras.models import Sequential, Model \n",
    "from keras.layers import Dropout, Flatten, Dense, GlobalAveragePooling2D\n",
    "from keras.callbacks import ModelCheckpoint\n",
    "from keras.preprocessing.image import ImageDataGenerator, array_to_img, img_to_array, load_img\n",
    "from keras.utils import np_utils\n",
    "from keras.optimizers import SGD\n",
    "from keras.optimizers import Adam\n",
    "\n",
    "\n",
    "from IPython.core.display import display, HTML\n",
    "from PIL import Image\n",
    "from io import BytesIO\n",
    "import base64\n",
    "\n",
    "plt.style.use('ggplot')\n",
    "%matplotlib inline"
   ]
  },
  {
   "cell_type": "code",
   "execution_count": 2,
   "metadata": {
    "execution": {
     "iopub.execute_input": "2022-05-06T21:58:36.644188Z",
     "iopub.status.busy": "2022-05-06T21:58:36.643876Z",
     "iopub.status.idle": "2022-05-06T21:58:36.649151Z",
     "shell.execute_reply": "2022-05-06T21:58:36.648459Z",
     "shell.execute_reply.started": "2022-05-06T21:58:36.644085Z"
    }
   },
   "outputs": [],
   "source": [
    "main_folder = '../input/celeba-dataset/'\n",
    "images_folder = main_folder + 'img_align_celeba/img_align_celeba/'\n",
    "\n",
    "EXAMPLE_PIC = images_folder + '000506.jpg'\n",
    "\n",
    "TRAINING_SAMPLES = 10000\n",
    "VALIDATION_SAMPLES = 2000\n",
    "TEST_SAMPLES = 2000\n",
    "IMG_WIDTH = 178\n",
    "IMG_HEIGHT = 218\n",
    "BATCH_SIZE = 16\n",
    "NUM_EPOCHS = 20"
   ]
  },
  {
   "cell_type": "code",
   "execution_count": 3,
   "metadata": {
    "execution": {
     "iopub.execute_input": "2022-05-06T21:58:36.650804Z",
     "iopub.status.busy": "2022-05-06T21:58:36.650415Z",
     "iopub.status.idle": "2022-05-06T21:58:38.118185Z",
     "shell.execute_reply": "2022-05-06T21:58:38.117322Z",
     "shell.execute_reply.started": "2022-05-06T21:58:36.650759Z"
    }
   },
   "outputs": [
    {
     "data": {
      "text/plain": [
       "(202599, 40)"
      ]
     },
     "execution_count": 3,
     "metadata": {},
     "output_type": "execute_result"
    }
   ],
   "source": [
    "df_attr = pd.read_csv(main_folder + 'list_attr_celeba.csv')\n",
    "df_attr.set_index('image_id', inplace=True)\n",
    "df_attr.replace(to_replace=-1, value=0, inplace=True) #replace -1 by 0\n",
    "df_attr.shape"
   ]
  },
  {
   "cell_type": "code",
   "execution_count": 4,
   "metadata": {
    "execution": {
     "iopub.execute_input": "2022-05-06T21:58:38.119818Z",
     "iopub.status.busy": "2022-05-06T21:58:38.119543Z",
     "iopub.status.idle": "2022-05-06T21:58:38.211362Z",
     "shell.execute_reply": "2022-05-06T21:58:38.210099Z",
     "shell.execute_reply.started": "2022-05-06T21:58:38.119759Z"
    }
   },
   "outputs": [
    {
     "data": {
      "text/html": [
       "<div>\n",
       "<style scoped>\n",
       "    .dataframe tbody tr th:only-of-type {\n",
       "        vertical-align: middle;\n",
       "    }\n",
       "\n",
       "    .dataframe tbody tr th {\n",
       "        vertical-align: top;\n",
       "    }\n",
       "\n",
       "    .dataframe thead th {\n",
       "        text-align: right;\n",
       "    }\n",
       "</style>\n",
       "<table border=\"1\" class=\"dataframe\">\n",
       "  <thead>\n",
       "    <tr style=\"text-align: right;\">\n",
       "      <th></th>\n",
       "      <th>5_o_Clock_Shadow</th>\n",
       "      <th>Arched_Eyebrows</th>\n",
       "      <th>Attractive</th>\n",
       "      <th>Bags_Under_Eyes</th>\n",
       "      <th>Bald</th>\n",
       "      <th>Bangs</th>\n",
       "      <th>Big_Lips</th>\n",
       "      <th>Big_Nose</th>\n",
       "      <th>Black_Hair</th>\n",
       "      <th>Blond_Hair</th>\n",
       "      <th>Blurry</th>\n",
       "      <th>Brown_Hair</th>\n",
       "      <th>Bushy_Eyebrows</th>\n",
       "      <th>Chubby</th>\n",
       "      <th>Double_Chin</th>\n",
       "      <th>Eyeglasses</th>\n",
       "      <th>Goatee</th>\n",
       "      <th>Gray_Hair</th>\n",
       "      <th>Heavy_Makeup</th>\n",
       "      <th>High_Cheekbones</th>\n",
       "      <th>Male</th>\n",
       "      <th>Mouth_Slightly_Open</th>\n",
       "      <th>Mustache</th>\n",
       "      <th>Narrow_Eyes</th>\n",
       "      <th>No_Beard</th>\n",
       "      <th>Oval_Face</th>\n",
       "      <th>Pale_Skin</th>\n",
       "      <th>Pointy_Nose</th>\n",
       "      <th>Receding_Hairline</th>\n",
       "      <th>Rosy_Cheeks</th>\n",
       "      <th>Sideburns</th>\n",
       "      <th>Smiling</th>\n",
       "      <th>Straight_Hair</th>\n",
       "      <th>Wavy_Hair</th>\n",
       "      <th>Wearing_Earrings</th>\n",
       "      <th>Wearing_Hat</th>\n",
       "      <th>Wearing_Lipstick</th>\n",
       "      <th>Wearing_Necklace</th>\n",
       "      <th>Wearing_Necktie</th>\n",
       "      <th>Young</th>\n",
       "    </tr>\n",
       "    <tr>\n",
       "      <th>image_id</th>\n",
       "      <th></th>\n",
       "      <th></th>\n",
       "      <th></th>\n",
       "      <th></th>\n",
       "      <th></th>\n",
       "      <th></th>\n",
       "      <th></th>\n",
       "      <th></th>\n",
       "      <th></th>\n",
       "      <th></th>\n",
       "      <th></th>\n",
       "      <th></th>\n",
       "      <th></th>\n",
       "      <th></th>\n",
       "      <th></th>\n",
       "      <th></th>\n",
       "      <th></th>\n",
       "      <th></th>\n",
       "      <th></th>\n",
       "      <th></th>\n",
       "      <th></th>\n",
       "      <th></th>\n",
       "      <th></th>\n",
       "      <th></th>\n",
       "      <th></th>\n",
       "      <th></th>\n",
       "      <th></th>\n",
       "      <th></th>\n",
       "      <th></th>\n",
       "      <th></th>\n",
       "      <th></th>\n",
       "      <th></th>\n",
       "      <th></th>\n",
       "      <th></th>\n",
       "      <th></th>\n",
       "      <th></th>\n",
       "      <th></th>\n",
       "      <th></th>\n",
       "      <th></th>\n",
       "      <th></th>\n",
       "    </tr>\n",
       "  </thead>\n",
       "  <tbody>\n",
       "    <tr>\n",
       "      <th>000001.jpg</th>\n",
       "      <td>0</td>\n",
       "      <td>1</td>\n",
       "      <td>1</td>\n",
       "      <td>0</td>\n",
       "      <td>0</td>\n",
       "      <td>0</td>\n",
       "      <td>0</td>\n",
       "      <td>0</td>\n",
       "      <td>0</td>\n",
       "      <td>0</td>\n",
       "      <td>0</td>\n",
       "      <td>1</td>\n",
       "      <td>0</td>\n",
       "      <td>0</td>\n",
       "      <td>0</td>\n",
       "      <td>0</td>\n",
       "      <td>0</td>\n",
       "      <td>0</td>\n",
       "      <td>1</td>\n",
       "      <td>1</td>\n",
       "      <td>0</td>\n",
       "      <td>1</td>\n",
       "      <td>0</td>\n",
       "      <td>0</td>\n",
       "      <td>1</td>\n",
       "      <td>0</td>\n",
       "      <td>0</td>\n",
       "      <td>1</td>\n",
       "      <td>0</td>\n",
       "      <td>0</td>\n",
       "      <td>0</td>\n",
       "      <td>1</td>\n",
       "      <td>1</td>\n",
       "      <td>0</td>\n",
       "      <td>1</td>\n",
       "      <td>0</td>\n",
       "      <td>1</td>\n",
       "      <td>0</td>\n",
       "      <td>0</td>\n",
       "      <td>1</td>\n",
       "    </tr>\n",
       "    <tr>\n",
       "      <th>000002.jpg</th>\n",
       "      <td>0</td>\n",
       "      <td>0</td>\n",
       "      <td>0</td>\n",
       "      <td>1</td>\n",
       "      <td>0</td>\n",
       "      <td>0</td>\n",
       "      <td>0</td>\n",
       "      <td>1</td>\n",
       "      <td>0</td>\n",
       "      <td>0</td>\n",
       "      <td>0</td>\n",
       "      <td>1</td>\n",
       "      <td>0</td>\n",
       "      <td>0</td>\n",
       "      <td>0</td>\n",
       "      <td>0</td>\n",
       "      <td>0</td>\n",
       "      <td>0</td>\n",
       "      <td>0</td>\n",
       "      <td>1</td>\n",
       "      <td>0</td>\n",
       "      <td>1</td>\n",
       "      <td>0</td>\n",
       "      <td>0</td>\n",
       "      <td>1</td>\n",
       "      <td>0</td>\n",
       "      <td>0</td>\n",
       "      <td>0</td>\n",
       "      <td>0</td>\n",
       "      <td>0</td>\n",
       "      <td>0</td>\n",
       "      <td>1</td>\n",
       "      <td>0</td>\n",
       "      <td>0</td>\n",
       "      <td>0</td>\n",
       "      <td>0</td>\n",
       "      <td>0</td>\n",
       "      <td>0</td>\n",
       "      <td>0</td>\n",
       "      <td>1</td>\n",
       "    </tr>\n",
       "    <tr>\n",
       "      <th>000003.jpg</th>\n",
       "      <td>0</td>\n",
       "      <td>0</td>\n",
       "      <td>0</td>\n",
       "      <td>0</td>\n",
       "      <td>0</td>\n",
       "      <td>0</td>\n",
       "      <td>1</td>\n",
       "      <td>0</td>\n",
       "      <td>0</td>\n",
       "      <td>0</td>\n",
       "      <td>1</td>\n",
       "      <td>0</td>\n",
       "      <td>0</td>\n",
       "      <td>0</td>\n",
       "      <td>0</td>\n",
       "      <td>0</td>\n",
       "      <td>0</td>\n",
       "      <td>0</td>\n",
       "      <td>0</td>\n",
       "      <td>0</td>\n",
       "      <td>1</td>\n",
       "      <td>0</td>\n",
       "      <td>0</td>\n",
       "      <td>1</td>\n",
       "      <td>1</td>\n",
       "      <td>0</td>\n",
       "      <td>0</td>\n",
       "      <td>1</td>\n",
       "      <td>0</td>\n",
       "      <td>0</td>\n",
       "      <td>0</td>\n",
       "      <td>0</td>\n",
       "      <td>0</td>\n",
       "      <td>1</td>\n",
       "      <td>0</td>\n",
       "      <td>0</td>\n",
       "      <td>0</td>\n",
       "      <td>0</td>\n",
       "      <td>0</td>\n",
       "      <td>1</td>\n",
       "    </tr>\n",
       "    <tr>\n",
       "      <th>000004.jpg</th>\n",
       "      <td>0</td>\n",
       "      <td>0</td>\n",
       "      <td>1</td>\n",
       "      <td>0</td>\n",
       "      <td>0</td>\n",
       "      <td>0</td>\n",
       "      <td>0</td>\n",
       "      <td>0</td>\n",
       "      <td>0</td>\n",
       "      <td>0</td>\n",
       "      <td>0</td>\n",
       "      <td>0</td>\n",
       "      <td>0</td>\n",
       "      <td>0</td>\n",
       "      <td>0</td>\n",
       "      <td>0</td>\n",
       "      <td>0</td>\n",
       "      <td>0</td>\n",
       "      <td>0</td>\n",
       "      <td>0</td>\n",
       "      <td>0</td>\n",
       "      <td>0</td>\n",
       "      <td>0</td>\n",
       "      <td>0</td>\n",
       "      <td>1</td>\n",
       "      <td>0</td>\n",
       "      <td>0</td>\n",
       "      <td>1</td>\n",
       "      <td>0</td>\n",
       "      <td>0</td>\n",
       "      <td>0</td>\n",
       "      <td>0</td>\n",
       "      <td>1</td>\n",
       "      <td>0</td>\n",
       "      <td>1</td>\n",
       "      <td>0</td>\n",
       "      <td>1</td>\n",
       "      <td>1</td>\n",
       "      <td>0</td>\n",
       "      <td>1</td>\n",
       "    </tr>\n",
       "    <tr>\n",
       "      <th>000005.jpg</th>\n",
       "      <td>0</td>\n",
       "      <td>1</td>\n",
       "      <td>1</td>\n",
       "      <td>0</td>\n",
       "      <td>0</td>\n",
       "      <td>0</td>\n",
       "      <td>1</td>\n",
       "      <td>0</td>\n",
       "      <td>0</td>\n",
       "      <td>0</td>\n",
       "      <td>0</td>\n",
       "      <td>0</td>\n",
       "      <td>0</td>\n",
       "      <td>0</td>\n",
       "      <td>0</td>\n",
       "      <td>0</td>\n",
       "      <td>0</td>\n",
       "      <td>0</td>\n",
       "      <td>1</td>\n",
       "      <td>0</td>\n",
       "      <td>0</td>\n",
       "      <td>0</td>\n",
       "      <td>0</td>\n",
       "      <td>1</td>\n",
       "      <td>1</td>\n",
       "      <td>0</td>\n",
       "      <td>0</td>\n",
       "      <td>1</td>\n",
       "      <td>0</td>\n",
       "      <td>0</td>\n",
       "      <td>0</td>\n",
       "      <td>0</td>\n",
       "      <td>0</td>\n",
       "      <td>0</td>\n",
       "      <td>0</td>\n",
       "      <td>0</td>\n",
       "      <td>1</td>\n",
       "      <td>0</td>\n",
       "      <td>0</td>\n",
       "      <td>1</td>\n",
       "    </tr>\n",
       "  </tbody>\n",
       "</table>\n",
       "</div>"
      ],
      "text/plain": [
       "            5_o_Clock_Shadow  Arched_Eyebrows  ...    Wearing_Necktie  Young\n",
       "image_id                                       ...                          \n",
       "000001.jpg                 0                1  ...                  0      1\n",
       "000002.jpg                 0                0  ...                  0      1\n",
       "000003.jpg                 0                0  ...                  0      1\n",
       "000004.jpg                 0                0  ...                  0      1\n",
       "000005.jpg                 0                1  ...                  0      1\n",
       "\n",
       "[5 rows x 40 columns]"
      ]
     },
     "execution_count": 4,
     "metadata": {},
     "output_type": "execute_result"
    }
   ],
   "source": [
    "df_attr.head()"
   ]
  },
  {
   "cell_type": "code",
   "execution_count": 5,
   "metadata": {
    "execution": {
     "iopub.execute_input": "2022-05-06T21:58:38.213493Z",
     "iopub.status.busy": "2022-05-06T21:58:38.213136Z",
     "iopub.status.idle": "2022-05-06T21:58:38.501011Z",
     "shell.execute_reply": "2022-05-06T21:58:38.499961Z",
     "shell.execute_reply.started": "2022-05-06T21:58:38.213422Z"
    }
   },
   "outputs": [
    {
     "data": {
      "image/png": "[encoded data removed]",
      "text/plain": [
       "<Figure size 432x288 with 1 Axes>"
      ]
     },
     "metadata": {
      "needs_background": "light"
     },
     "output_type": "display_data"
    }
   ],
   "source": [
    "# Female or Male?\n",
    "plt.title('Female or Male')\n",
    "sns.countplot(y='Male', data=df_attr, color=\"c\")\n",
    "plt.show()"
   ]
  },
  {
   "cell_type": "code",
   "execution_count": 6,
   "metadata": {
    "execution": {
     "iopub.execute_input": "2022-05-06T21:58:38.502778Z",
     "iopub.status.busy": "2022-05-06T21:58:38.502474Z",
     "iopub.status.idle": "2022-05-06T21:58:38.719539Z",
     "shell.execute_reply": "2022-05-06T21:58:38.718894Z",
     "shell.execute_reply.started": "2022-05-06T21:58:38.502724Z"
    }
   },
   "outputs": [
    {
     "data": {
      "text/html": [
       "<div>\n",
       "<style scoped>\n",
       "    .dataframe tbody tr th:only-of-type {\n",
       "        vertical-align: middle;\n",
       "    }\n",
       "\n",
       "    .dataframe tbody tr th {\n",
       "        vertical-align: top;\n",
       "    }\n",
       "\n",
       "    .dataframe thead th {\n",
       "        text-align: right;\n",
       "    }\n",
       "</style>\n",
       "<table border=\"1\" class=\"dataframe\">\n",
       "  <thead>\n",
       "    <tr style=\"text-align: right;\">\n",
       "      <th></th>\n",
       "      <th>image_id</th>\n",
       "      <th>partition</th>\n",
       "    </tr>\n",
       "  </thead>\n",
       "  <tbody>\n",
       "    <tr>\n",
       "      <th>0</th>\n",
       "      <td>000001.jpg</td>\n",
       "      <td>0</td>\n",
       "    </tr>\n",
       "    <tr>\n",
       "      <th>1</th>\n",
       "      <td>000002.jpg</td>\n",
       "      <td>0</td>\n",
       "    </tr>\n",
       "    <tr>\n",
       "      <th>2</th>\n",
       "      <td>000003.jpg</td>\n",
       "      <td>0</td>\n",
       "    </tr>\n",
       "    <tr>\n",
       "      <th>3</th>\n",
       "      <td>000004.jpg</td>\n",
       "      <td>0</td>\n",
       "    </tr>\n",
       "    <tr>\n",
       "      <th>4</th>\n",
       "      <td>000005.jpg</td>\n",
       "      <td>0</td>\n",
       "    </tr>\n",
       "  </tbody>\n",
       "</table>\n",
       "</div>"
      ],
      "text/plain": [
       "     image_id  partition\n",
       "0  000001.jpg          0\n",
       "1  000002.jpg          0\n",
       "2  000003.jpg          0\n",
       "3  000004.jpg          0\n",
       "4  000005.jpg          0"
      ]
     },
     "execution_count": 6,
     "metadata": {},
     "output_type": "execute_result"
    }
   ],
   "source": [
    "# Recomended partition\n",
    "df_partition = pd.read_csv(main_folder + 'list_eval_partition.csv')\n",
    "df_partition.head()"
   ]
  },
  {
   "cell_type": "code",
   "execution_count": 7,
   "metadata": {
    "execution": {
     "iopub.execute_input": "2022-05-06T21:58:38.721273Z",
     "iopub.status.busy": "2022-05-06T21:58:38.720741Z",
     "iopub.status.idle": "2022-05-06T21:58:38.734895Z",
     "shell.execute_reply": "2022-05-06T21:58:38.734127Z",
     "shell.execute_reply.started": "2022-05-06T21:58:38.721212Z"
    }
   },
   "outputs": [
    {
     "data": {
      "text/plain": [
       "0    162770\n",
       "1     19867\n",
       "2     19962\n",
       "Name: partition, dtype: int64"
      ]
     },
     "execution_count": 7,
     "metadata": {},
     "output_type": "execute_result"
    }
   ],
   "source": [
    "df_partition['partition'].value_counts().sort_index()"
   ]
  },
  {
   "cell_type": "code",
   "execution_count": 8,
   "metadata": {
    "execution": {
     "iopub.execute_input": "2022-05-06T21:58:38.736603Z",
     "iopub.status.busy": "2022-05-06T21:58:38.736281Z",
     "iopub.status.idle": "2022-05-06T21:58:38.909827Z",
     "shell.execute_reply": "2022-05-06T21:58:38.908844Z",
     "shell.execute_reply.started": "2022-05-06T21:58:38.736536Z"
    }
   },
   "outputs": [
    {
     "data": {
      "text/html": [
       "<div>\n",
       "<style scoped>\n",
       "    .dataframe tbody tr th:only-of-type {\n",
       "        vertical-align: middle;\n",
       "    }\n",
       "\n",
       "    .dataframe tbody tr th {\n",
       "        vertical-align: top;\n",
       "    }\n",
       "\n",
       "    .dataframe thead th {\n",
       "        text-align: right;\n",
       "    }\n",
       "</style>\n",
       "<table border=\"1\" class=\"dataframe\">\n",
       "  <thead>\n",
       "    <tr style=\"text-align: right;\">\n",
       "      <th></th>\n",
       "      <th>partition</th>\n",
       "      <th>Male</th>\n",
       "    </tr>\n",
       "    <tr>\n",
       "      <th>image_id</th>\n",
       "      <th></th>\n",
       "      <th></th>\n",
       "    </tr>\n",
       "  </thead>\n",
       "  <tbody>\n",
       "    <tr>\n",
       "      <th>000001.jpg</th>\n",
       "      <td>0</td>\n",
       "      <td>0</td>\n",
       "    </tr>\n",
       "    <tr>\n",
       "      <th>000002.jpg</th>\n",
       "      <td>0</td>\n",
       "      <td>0</td>\n",
       "    </tr>\n",
       "    <tr>\n",
       "      <th>000003.jpg</th>\n",
       "      <td>0</td>\n",
       "      <td>1</td>\n",
       "    </tr>\n",
       "    <tr>\n",
       "      <th>000004.jpg</th>\n",
       "      <td>0</td>\n",
       "      <td>0</td>\n",
       "    </tr>\n",
       "    <tr>\n",
       "      <th>000005.jpg</th>\n",
       "      <td>0</td>\n",
       "      <td>0</td>\n",
       "    </tr>\n",
       "  </tbody>\n",
       "</table>\n",
       "</div>"
      ],
      "text/plain": [
       "            partition  Male\n",
       "image_id                   \n",
       "000001.jpg          0     0\n",
       "000002.jpg          0     0\n",
       "000003.jpg          0     1\n",
       "000004.jpg          0     0\n",
       "000005.jpg          0     0"
      ]
     },
     "execution_count": 8,
     "metadata": {},
     "output_type": "execute_result"
    }
   ],
   "source": [
    "df_partition.set_index('image_id', inplace=True)\n",
    "df_par_attr = df_partition.join(df_attr['Male'], how='inner')\n",
    "df_par_attr.head()"
   ]
  },
  {
   "cell_type": "code",
   "execution_count": 9,
   "metadata": {
    "execution": {
     "iopub.execute_input": "2022-05-06T21:58:38.911582Z",
     "iopub.status.busy": "2022-05-06T21:58:38.911247Z",
     "iopub.status.idle": "2022-05-06T21:58:38.916819Z",
     "shell.execute_reply": "2022-05-06T21:58:38.915704Z",
     "shell.execute_reply.started": "2022-05-06T21:58:38.911512Z"
    }
   },
   "outputs": [],
   "source": [
    "def load_reshape_img(fname):\n",
    "    img = load_img(fname)\n",
    "    x = img_to_array(img)/255.\n",
    "    x = x.reshape((1,) + x.shape)\n",
    "    return x\n",
    "\n"
   ]
  },
  {
   "cell_type": "code",
   "execution_count": 10,
   "metadata": {
    "execution": {
     "iopub.execute_input": "2022-05-06T21:58:38.918798Z",
     "iopub.status.busy": "2022-05-06T21:58:38.918462Z",
     "iopub.status.idle": "2022-05-06T21:58:38.949990Z",
     "shell.execute_reply": "2022-05-06T21:58:38.949227Z",
     "shell.execute_reply.started": "2022-05-06T21:58:38.918733Z"
    }
   },
   "outputs": [],
   "source": [
    "df_train = df_par_attr[(df_par_attr['partition'] == 0) \n",
    "                           & (df_par_attr[\"Male\"] == 0)].sample(int(TRAINING_SAMPLES/2))"
   ]
  },
  {
   "cell_type": "code",
   "execution_count": 11,
   "metadata": {
    "execution": {
     "iopub.execute_input": "2022-05-06T21:58:38.951564Z",
     "iopub.status.busy": "2022-05-06T21:58:38.951347Z",
     "iopub.status.idle": "2022-05-06T21:58:38.968505Z",
     "shell.execute_reply": "2022-05-06T21:58:38.967567Z",
     "shell.execute_reply.started": "2022-05-06T21:58:38.951530Z"
    }
   },
   "outputs": [],
   "source": [
    "df_train = pd.concat([df_train,\n",
    "                      df_par_attr[(df_par_attr['partition'] == 0) \n",
    "                                  & (df_par_attr[\"Male\"] == 1)].sample(int(TRAINING_SAMPLES/2))])"
   ]
  },
  {
   "cell_type": "code",
   "execution_count": 12,
   "metadata": {
    "execution": {
     "iopub.execute_input": "2022-05-06T21:58:38.970064Z",
     "iopub.status.busy": "2022-05-06T21:58:38.969777Z",
     "iopub.status.idle": "2022-05-06T22:00:15.744991Z",
     "shell.execute_reply": "2022-05-06T22:00:15.743989Z",
     "shell.execute_reply.started": "2022-05-06T21:58:38.969999Z"
    }
   },
   "outputs": [],
   "source": [
    "x_train = np.array([load_reshape_img(images_folder + fname) for fname in df_train.index])\n"
   ]
  },
  {
   "cell_type": "code",
   "execution_count": 13,
   "metadata": {
    "execution": {
     "iopub.execute_input": "2022-05-06T22:00:15.746475Z",
     "iopub.status.busy": "2022-05-06T22:00:15.746228Z",
     "iopub.status.idle": "2022-05-06T22:00:15.750408Z",
     "shell.execute_reply": "2022-05-06T22:00:15.749524Z",
     "shell.execute_reply.started": "2022-05-06T22:00:15.746431Z"
    }
   },
   "outputs": [],
   "source": [
    "x_train = x_train.reshape(x_train.shape[0], 218, 178, 3)"
   ]
  },
  {
   "cell_type": "code",
   "execution_count": 14,
   "metadata": {
    "execution": {
     "iopub.execute_input": "2022-05-06T22:00:15.751716Z",
     "iopub.status.busy": "2022-05-06T22:00:15.751467Z",
     "iopub.status.idle": "2022-05-06T22:00:15.765377Z",
     "shell.execute_reply": "2022-05-06T22:00:15.764448Z",
     "shell.execute_reply.started": "2022-05-06T22:00:15.751673Z"
    }
   },
   "outputs": [],
   "source": [
    "import numpy as np\n",
    "\n",
    "\n",
    "y_train = np.array(df_train[\"Male\"])"
   ]
  },
  {
   "cell_type": "code",
   "execution_count": 15,
   "metadata": {
    "execution": {
     "iopub.execute_input": "2022-05-06T22:00:15.766863Z",
     "iopub.status.busy": "2022-05-06T22:00:15.766451Z",
     "iopub.status.idle": "2022-05-06T22:00:15.776743Z",
     "shell.execute_reply": "2022-05-06T22:00:15.775760Z",
     "shell.execute_reply.started": "2022-05-06T22:00:15.766680Z"
    }
   },
   "outputs": [],
   "source": [
    "from keras.utils import to_categorical\n",
    "y_train = to_categorical(y_train)"
   ]
  },
  {
   "cell_type": "code",
   "execution_count": 16,
   "metadata": {
    "execution": {
     "iopub.execute_input": "2022-05-06T22:00:15.778525Z",
     "iopub.status.busy": "2022-05-06T22:00:15.778075Z",
     "iopub.status.idle": "2022-05-06T22:00:26.232043Z",
     "shell.execute_reply": "2022-05-06T22:00:26.230332Z",
     "shell.execute_reply.started": "2022-05-06T22:00:15.778454Z"
    }
   },
   "outputs": [],
   "source": [
    "train_datagen =  ImageDataGenerator(\n",
    "  preprocessing_function=preprocess_input,\n",
    "  rotation_range=30,\n",
    "  width_shift_range=0.2,\n",
    "  height_shift_range=0.2,\n",
    "  shear_range=0.2,\n",
    "  zoom_range=0.2,\n",
    "  horizontal_flip=True,\n",
    ")\n",
    "\n",
    "train_datagen.fit(x_train)\n",
    "\n",
    "train_generator = train_datagen.flow(\n",
    "x_train, y_train,\n",
    "batch_size=BATCH_SIZE,\n",
    ")"
   ]
  },
  {
   "cell_type": "code",
   "execution_count": 17,
   "metadata": {
    "execution": {
     "iopub.execute_input": "2022-05-06T22:00:26.235461Z",
     "iopub.status.busy": "2022-05-06T22:00:26.235023Z",
     "iopub.status.idle": "2022-05-06T22:00:26.251258Z",
     "shell.execute_reply": "2022-05-06T22:00:26.249843Z",
     "shell.execute_reply.started": "2022-05-06T22:00:26.235392Z"
    }
   },
   "outputs": [],
   "source": [
    "df_validate = df_par_attr[(df_par_attr['partition'] == 1) \n",
    "                           & (df_par_attr[\"Male\"] == 0)].sample(int(VALIDATION_SAMPLES/2))\n"
   ]
  },
  {
   "cell_type": "code",
   "execution_count": 18,
   "metadata": {
    "execution": {
     "iopub.execute_input": "2022-05-06T22:00:26.253369Z",
     "iopub.status.busy": "2022-05-06T22:00:26.252843Z",
     "iopub.status.idle": "2022-05-06T22:00:26.261414Z",
     "shell.execute_reply": "2022-05-06T22:00:26.260791Z",
     "shell.execute_reply.started": "2022-05-06T22:00:26.253303Z"
    }
   },
   "outputs": [],
   "source": [
    "\n",
    "df_evaluate = pd.concat([df_validate,\n",
    "                      df_par_attr[(df_par_attr['partition'] == 1) \n",
    "                                  & (df_par_attr[\"Male\"] == 1)].sample(int(VALIDATION_SAMPLES/2))])"
   ]
  },
  {
   "cell_type": "code",
   "execution_count": 19,
   "metadata": {
    "execution": {
     "iopub.execute_input": "2022-05-06T22:00:26.263318Z",
     "iopub.status.busy": "2022-05-06T22:00:26.262817Z",
     "iopub.status.idle": "2022-05-06T22:00:43.584989Z",
     "shell.execute_reply": "2022-05-06T22:00:43.584206Z",
     "shell.execute_reply.started": "2022-05-06T22:00:26.263260Z"
    }
   },
   "outputs": [],
   "source": [
    "x_validate = np.array([load_reshape_img(images_folder + fname) for fname in df_evaluate.index])"
   ]
  },
  {
   "cell_type": "code",
   "execution_count": 20,
   "metadata": {
    "execution": {
     "iopub.execute_input": "2022-05-06T22:00:43.586693Z",
     "iopub.status.busy": "2022-05-06T22:00:43.586357Z",
     "iopub.status.idle": "2022-05-06T22:00:43.591638Z",
     "shell.execute_reply": "2022-05-06T22:00:43.590740Z",
     "shell.execute_reply.started": "2022-05-06T22:00:43.586625Z"
    }
   },
   "outputs": [],
   "source": [
    "x_validate = x_validate.reshape(x_validate.shape[0], 218, 178, 3)"
   ]
  },
  {
   "cell_type": "code",
   "execution_count": 21,
   "metadata": {
    "execution": {
     "iopub.execute_input": "2022-05-06T22:00:43.593593Z",
     "iopub.status.busy": "2022-05-06T22:00:43.593110Z",
     "iopub.status.idle": "2022-05-06T22:00:43.605001Z",
     "shell.execute_reply": "2022-05-06T22:00:43.604368Z",
     "shell.execute_reply.started": "2022-05-06T22:00:43.593537Z"
    }
   },
   "outputs": [],
   "source": [
    "y_validate = np.array(df_evaluate[\"Male\"])\n",
    "\n"
   ]
  },
  {
   "cell_type": "code",
   "execution_count": 22,
   "metadata": {
    "execution": {
     "iopub.execute_input": "2022-05-06T22:00:43.606899Z",
     "iopub.status.busy": "2022-05-06T22:00:43.606332Z",
     "iopub.status.idle": "2022-05-06T22:00:43.618146Z",
     "shell.execute_reply": "2022-05-06T22:00:43.617165Z",
     "shell.execute_reply.started": "2022-05-06T22:00:43.606839Z"
    }
   },
   "outputs": [],
   "source": [
    "from keras.utils import to_categorical\n",
    "y_validate = to_categorical(y_validate)"
   ]
  },
  {
   "cell_type": "markdown",
   "metadata": {},
   "source": [
    "## Model"
   ]
  },
  {
   "cell_type": "code",
   "execution_count": 23,
   "metadata": {
    "execution": {
     "iopub.execute_input": "2022-05-06T22:00:43.619856Z",
     "iopub.status.busy": "2022-05-06T22:00:43.619359Z",
     "iopub.status.idle": "2022-05-06T22:00:43.779369Z",
     "shell.execute_reply": "2022-05-06T22:00:43.778467Z",
     "shell.execute_reply.started": "2022-05-06T22:00:43.619800Z"
    }
   },
   "outputs": [
    {
     "name": "stdout",
     "output_type": "stream",
     "text": [
      "_________________________________________________________________\n",
      "Layer (type)                 Output Shape              Param #   \n",
      "=================================================================\n",
      "conv2d_1 (Conv2D)            (None, 218, 178, 8)       224       \n",
      "_________________________________________________________________\n",
      "max_pooling2d_1 (MaxPooling2 (None, 72, 59, 8)         0         \n",
      "_________________________________________________________________\n",
      "conv2d_2 (Conv2D)            (None, 72, 59, 16)        1168      \n",
      "_________________________________________________________________\n",
      "max_pooling2d_2 (MaxPooling2 (None, 36, 29, 16)        0         \n",
      "_________________________________________________________________\n",
      "conv2d_3 (Conv2D)            (None, 36, 29, 32)        4640      \n",
      "_________________________________________________________________\n",
      "max_pooling2d_3 (MaxPooling2 (None, 18, 14, 32)        0         \n",
      "_________________________________________________________________\n",
      "flatten_1 (Flatten)          (None, 8064)              0         \n",
      "_________________________________________________________________\n",
      "dense_1 (Dense)              (None, 32)                258080    \n",
      "_________________________________________________________________\n",
      "dense_2 (Dense)              (None, 2)                 66        \n",
      "=================================================================\n",
      "Total params: 264,178\n",
      "Trainable params: 264,178\n",
      "Non-trainable params: 0\n",
      "_________________________________________________________________\n"
     ]
    }
   ],
   "source": [
    "from keras.layers import Conv2D, MaxPooling2D, Activation, Flatten, Dropout, Dense\n",
    "\n",
    "model = Sequential()\n",
    "model.add(Conv2D(8, (3, 3), padding=\"same\",input_shape=(218,178,3), activation=\"relu\"))\n",
    "model.add(MaxPooling2D(pool_size=(3, 3)))\n",
    "model.add(Conv2D(16, (3, 3), padding=\"same\", activation=\"relu\"))\n",
    "model.add(MaxPooling2D(pool_size=(2, 2)))\n",
    "model.add(Conv2D(32, (3, 3), padding=\"same\", activation=\"relu\"))\n",
    "model.add(MaxPooling2D(pool_size=(2, 2)))\n",
    "model.add(Flatten())\n",
    "model.add(Dense(32, activation=\"relu\"))\n",
    "model.add(Dense(2, activation=\"softmax\"))\n",
    "model.summary()"
   ]
  },
  {
   "cell_type": "code",
   "execution_count": 24,
   "metadata": {
    "execution": {
     "iopub.execute_input": "2022-05-06T22:00:43.780831Z",
     "iopub.status.busy": "2022-05-06T22:00:43.780598Z",
     "iopub.status.idle": "2022-05-06T23:21:35.946190Z",
     "shell.execute_reply": "2022-05-06T23:21:35.945131Z",
     "shell.execute_reply.started": "2022-05-06T22:00:43.780790Z"
    }
   },
   "outputs": [
    {
     "name": "stdout",
     "output_type": "stream",
     "text": [
      "Epoch 1/20\n",
      "625/625 [==============================] - 215s 344ms/step - loss: 0.6937 - acc: 0.4954 - val_loss: 0.6944 - val_acc: 0.4940\n",
      "Epoch 2/20\n",
      "625/625 [==============================] - 224s 358ms/step - loss: 0.6932 - acc: 0.4924 - val_loss: 0.6944 - val_acc: 0.5015\n",
      "Epoch 3/20\n",
      "625/625 [==============================] - 220s 352ms/step - loss: 0.6932 - acc: 0.4922 - val_loss: 0.6944 - val_acc: 0.5010\n",
      "Epoch 4/20\n",
      "625/625 [==============================] - 219s 350ms/step - loss: 0.6932 - acc: 0.5022 - val_loss: 0.6944 - val_acc: 0.4910\n",
      "Epoch 5/20\n",
      "625/625 [==============================] - 221s 354ms/step - loss: 0.6932 - acc: 0.4946 - val_loss: 0.6944 - val_acc: 0.4915\n",
      "Epoch 6/20\n",
      "625/625 [==============================] - 217s 346ms/step - loss: 0.6932 - acc: 0.4956 - val_loss: 0.6944 - val_acc: 0.4910\n",
      "Epoch 7/20\n",
      "625/625 [==============================] - 217s 348ms/step - loss: 0.6932 - acc: 0.4966 - val_loss: 0.6944 - val_acc: 0.4875\n",
      "Epoch 8/20\n",
      "625/625 [==============================] - 214s 342ms/step - loss: 0.6932 - acc: 0.4916 - val_loss: 0.6944 - val_acc: 0.4890\n",
      "Epoch 9/20\n",
      "409/625 [==================>...........] - ETA: 1:08 - loss: 0.6932 - acc: 0.4985"
     ]
    }
   ],
   "source": [
    "model.compile(loss = 'categorical_crossentropy', optimizer = Adam(0.0005),metrics=['accuracy'])\n",
    "ist = model.fit_generator(train_generator\n",
    "                     , validation_data = (x_validate, y_validate)\n",
    "                      , steps_per_epoch= TRAINING_SAMPLES/BATCH_SIZE\n",
    "                      , epochs= NUM_EPOCHS\n",
    "                      , verbose=1\n",
    "                          \n",
    "                    )"
   ]
  },
  {
   "cell_type": "markdown",
   "metadata": {},
   "source": []
  },
  {
   "cell_type": "code",
   "execution_count": 25,
   "metadata": {
    "execution": {
     "iopub.execute_input": "2022-05-06T23:21:35.948518Z",
     "iopub.status.busy": "2022-05-06T23:21:35.948176Z",
     "iopub.status.idle": "2022-05-06T23:21:36.236632Z",
     "shell.execute_reply": "2022-05-06T23:21:36.235633Z",
     "shell.execute_reply.started": "2022-05-06T23:21:35.948461Z"
    }
   },
   "outputs": [
    {
     "data": {
      "image/png": "[encoded data removed]",
      "text/plain": [
       "<Figure size 864x360 with 1 Axes>"
      ]
     },
     "metadata": {
      "needs_background": "light"
     },
     "output_type": "display_data"
    }
   ],
   "source": [
    "history = ist\n",
    "# Model Loss\n",
    "plt.figure(figsize=(12, 5))\n",
    "plt.plot(history.history['loss'], color='r')\n",
    "plt.plot(history.history['val_loss'], color='b')\n",
    "plt.title('Model Loss')\n",
    "plt.ylabel('Loss')\n",
    "plt.xlabel('Epochs')\n",
    "plt.legend(['train', 'val'])\n",
    "plt.show()"
   ]
  },
  {
   "cell_type": "code",
   "execution_count": 26,
   "metadata": {
    "execution": {
     "iopub.execute_input": "2022-05-06T23:21:36.238809Z",
     "iopub.status.busy": "2022-05-06T23:21:36.238259Z",
     "iopub.status.idle": "2022-05-06T23:21:36.256668Z",
     "shell.execute_reply": "2022-05-06T23:21:36.255440Z",
     "shell.execute_reply.started": "2022-05-06T23:21:36.238749Z"
    }
   },
   "outputs": [],
   "source": [
    "df_test = df_par_attr[(df_par_attr['partition'] == 2) \n",
    "                           & (df_par_attr[\"Male\"] == 0)].sample(int(TEST_SAMPLES/2))\n"
   ]
  },
  {
   "cell_type": "code",
   "execution_count": 27,
   "metadata": {
    "execution": {
     "iopub.execute_input": "2022-05-06T23:21:36.258489Z",
     "iopub.status.busy": "2022-05-06T23:21:36.258078Z",
     "iopub.status.idle": "2022-05-06T23:21:36.268323Z",
     "shell.execute_reply": "2022-05-06T23:21:36.267418Z",
     "shell.execute_reply.started": "2022-05-06T23:21:36.258284Z"
    }
   },
   "outputs": [],
   "source": [
    "df_test = pd.concat([df_test,\n",
    "                      df_par_attr[(df_par_attr['partition'] == 2) \n",
    "                                  & (df_par_attr[\"Male\"] == 1)].sample(int(TEST_SAMPLES/2))])"
   ]
  },
  {
   "cell_type": "code",
   "execution_count": 28,
   "metadata": {
    "execution": {
     "iopub.execute_input": "2022-05-06T23:21:36.270003Z",
     "iopub.status.busy": "2022-05-06T23:21:36.269710Z",
     "iopub.status.idle": "2022-05-06T23:21:56.587138Z",
     "shell.execute_reply": "2022-05-06T23:21:56.586233Z",
     "shell.execute_reply.started": "2022-05-06T23:21:36.269927Z"
    }
   },
   "outputs": [],
   "source": [
    "x_test = []\n",
    "y_test = []\n",
    "for index, target in df_test.iterrows():\n",
    "    im = cv2.imread(images_folder + index)\n",
    "    im = cv2.resize(cv2.cvtColor(im, cv2.COLOR_BGR2RGB), (IMG_WIDTH, IMG_HEIGHT)).astype(np.float32) / 255.0\n",
    "    im = np.expand_dims(im, axis =0)\n",
    "    x_test.append(im)\n",
    "    y_test.append(target[\"Male\"])"
   ]
  },
  {
   "cell_type": "code",
   "execution_count": 29,
   "metadata": {
    "execution": {
     "iopub.execute_input": "2022-05-06T23:21:56.588641Z",
     "iopub.status.busy": "2022-05-06T23:21:56.588419Z",
     "iopub.status.idle": "2022-05-06T23:22:19.657306Z",
     "shell.execute_reply": "2022-05-06T23:22:19.656507Z",
     "shell.execute_reply.started": "2022-05-06T23:21:56.588608Z"
    }
   },
   "outputs": [
    {
     "name": "stdout",
     "output_type": "stream",
     "text": [
      "Model Evaluation\n",
      "Test accuracy: 48.0500%\n",
      "f1_score: 0.49440389294403897\n"
     ]
    }
   ],
   "source": [
    "model_predictions = [np.argmax(model.predict(feature)) for feature in x_test ]\n",
    "\n",
    "# report test accuracy\n",
    "test_accuracy = 100 * np.sum(np.array(model_predictions)==y_test) / len(model_predictions)\n",
    "print('Model Evaluation')\n",
    "print('Test accuracy: %.4f%%' % test_accuracy)\n",
    "print('f1_score:', f1_score(y_test, model_predictions))"
   ]
  },
  {
   "cell_type": "code",
   "execution_count": 30,
   "metadata": {
    "execution": {
     "iopub.execute_input": "2022-05-06T23:22:19.658917Z",
     "iopub.status.busy": "2022-05-06T23:22:19.658642Z",
     "iopub.status.idle": "2022-05-06T23:22:19.662897Z",
     "shell.execute_reply": "2022-05-06T23:22:19.662321Z",
     "shell.execute_reply.started": "2022-05-06T23:22:19.658860Z"
    }
   },
   "outputs": [],
   "source": [
    "# as we built the CNN from scracth and as it has no pre training, our accuracy is low. Low training data is also another reason"
   ]
  },
  {
   "cell_type": "code",
   "execution_count": null,
   "metadata": {},
   "outputs": [],
   "source": []
  }
 ],
 "metadata": {
  "kernelspec": {
   "display_name": "Python 3",
   "language": "python",
   "name": "python3"
  },
  "language_info": {
   "codemirror_mode": {
    "name": "ipython",
    "version": 3
   },
   "file_extension": ".py",
   "mimetype": "text/x-python",
   "name": "python",
   "nbconvert_exporter": "python",
   "pygments_lexer": "ipython3",
   "version": "3.6.6"
  }
 },
 "nbformat": 4,
 "nbformat_minor": 4
}
